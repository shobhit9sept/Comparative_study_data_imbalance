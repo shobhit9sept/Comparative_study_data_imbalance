{
 "cells": [
  {
   "cell_type": "code",
   "execution_count": 1,
   "metadata": {},
   "outputs": [],
   "source": [
    "import numpy as np\n",
    "import pandas as pd\n",
    "import matplotlib.pyplot as plt\n",
    "from sklearn.preprocessing import LabelEncoder\n",
    "from sklearn.model_selection import train_test_split\n",
    "import seaborn as sb"
   ]
  },
  {
   "cell_type": "code",
   "execution_count": 2,
   "metadata": {},
   "outputs": [],
   "source": [
    "Train_path = \"..\\datasets\\BuzzInSocialMedia\\Twitter\\Twitter.data\"\n",
    "train_df = pd.read_csv(Train_path, header = None)\n",
    "X, y = train_df.values[:, :-1], train_df.values[:, -1]\n",
    "X_train, X_test, y_train, y_test = train_test_split(X, y, test_size=0.2, random_state=42)"
   ]
  },
  {
   "cell_type": "code",
   "execution_count": 4,
   "metadata": {},
   "outputs": [],
   "source": [
    "for col in train_df.columns:\n",
    "    if not (train_df[col].dtype == \"int64\" or train_df[col].dtype == \"float64\"):\n",
    "        print(col, train_df[col].dtype)"
   ]
  },
  {
   "cell_type": "code",
   "execution_count": 5,
   "metadata": {},
   "outputs": [
    {
     "name": "stdout",
     "output_type": "stream",
     "text": [
      "(466600, 77)\n",
      "(116650, 77)\n",
      "(466600,)\n",
      "(116650,)\n"
     ]
    }
   ],
   "source": [
    "print(X_train.shape)\n",
    "print(X_test.shape)\n",
    "print(y_train.shape)\n",
    "print(y_test.shape)"
   ]
  },
  {
   "cell_type": "code",
   "execution_count": 6,
   "metadata": {},
   "outputs": [
    {
     "data": {
      "text/html": [
       "<div>\n",
       "<style scoped>\n",
       "    .dataframe tbody tr th:only-of-type {\n",
       "        vertical-align: middle;\n",
       "    }\n",
       "\n",
       "    .dataframe tbody tr th {\n",
       "        vertical-align: top;\n",
       "    }\n",
       "\n",
       "    .dataframe thead th {\n",
       "        text-align: right;\n",
       "    }\n",
       "</style>\n",
       "<table border=\"1\" class=\"dataframe\">\n",
       "  <thead>\n",
       "    <tr style=\"text-align: right;\">\n",
       "      <th></th>\n",
       "      <th>0</th>\n",
       "      <th>1</th>\n",
       "      <th>2</th>\n",
       "      <th>3</th>\n",
       "      <th>4</th>\n",
       "      <th>5</th>\n",
       "      <th>6</th>\n",
       "      <th>7</th>\n",
       "      <th>8</th>\n",
       "      <th>9</th>\n",
       "      <th>...</th>\n",
       "      <th>68</th>\n",
       "      <th>69</th>\n",
       "      <th>70</th>\n",
       "      <th>71</th>\n",
       "      <th>72</th>\n",
       "      <th>73</th>\n",
       "      <th>74</th>\n",
       "      <th>75</th>\n",
       "      <th>76</th>\n",
       "      <th>77</th>\n",
       "    </tr>\n",
       "  </thead>\n",
       "  <tbody>\n",
       "    <tr>\n",
       "      <th>0</th>\n",
       "      <td>0</td>\n",
       "      <td>2</td>\n",
       "      <td>0</td>\n",
       "      <td>0</td>\n",
       "      <td>1</td>\n",
       "      <td>1</td>\n",
       "      <td>1</td>\n",
       "      <td>0</td>\n",
       "      <td>1</td>\n",
       "      <td>0</td>\n",
       "      <td>...</td>\n",
       "      <td>1.0</td>\n",
       "      <td>1.0</td>\n",
       "      <td>0</td>\n",
       "      <td>2</td>\n",
       "      <td>0</td>\n",
       "      <td>0</td>\n",
       "      <td>1</td>\n",
       "      <td>1</td>\n",
       "      <td>1</td>\n",
       "      <td>0.0</td>\n",
       "    </tr>\n",
       "    <tr>\n",
       "      <th>1</th>\n",
       "      <td>2</td>\n",
       "      <td>1</td>\n",
       "      <td>0</td>\n",
       "      <td>0</td>\n",
       "      <td>0</td>\n",
       "      <td>0</td>\n",
       "      <td>4</td>\n",
       "      <td>2</td>\n",
       "      <td>1</td>\n",
       "      <td>0</td>\n",
       "      <td>...</td>\n",
       "      <td>0.0</td>\n",
       "      <td>1.0</td>\n",
       "      <td>2</td>\n",
       "      <td>1</td>\n",
       "      <td>0</td>\n",
       "      <td>0</td>\n",
       "      <td>0</td>\n",
       "      <td>0</td>\n",
       "      <td>4</td>\n",
       "      <td>0.5</td>\n",
       "    </tr>\n",
       "    <tr>\n",
       "      <th>2</th>\n",
       "      <td>1</td>\n",
       "      <td>0</td>\n",
       "      <td>0</td>\n",
       "      <td>0</td>\n",
       "      <td>0</td>\n",
       "      <td>4</td>\n",
       "      <td>1</td>\n",
       "      <td>1</td>\n",
       "      <td>0</td>\n",
       "      <td>0</td>\n",
       "      <td>...</td>\n",
       "      <td>1.0</td>\n",
       "      <td>1.0</td>\n",
       "      <td>1</td>\n",
       "      <td>0</td>\n",
       "      <td>0</td>\n",
       "      <td>0</td>\n",
       "      <td>0</td>\n",
       "      <td>4</td>\n",
       "      <td>1</td>\n",
       "      <td>0.0</td>\n",
       "    </tr>\n",
       "    <tr>\n",
       "      <th>3</th>\n",
       "      <td>1</td>\n",
       "      <td>0</td>\n",
       "      <td>0</td>\n",
       "      <td>1</td>\n",
       "      <td>0</td>\n",
       "      <td>0</td>\n",
       "      <td>1</td>\n",
       "      <td>1</td>\n",
       "      <td>0</td>\n",
       "      <td>0</td>\n",
       "      <td>...</td>\n",
       "      <td>0.0</td>\n",
       "      <td>1.0</td>\n",
       "      <td>1</td>\n",
       "      <td>0</td>\n",
       "      <td>0</td>\n",
       "      <td>1</td>\n",
       "      <td>0</td>\n",
       "      <td>0</td>\n",
       "      <td>1</td>\n",
       "      <td>2.5</td>\n",
       "    </tr>\n",
       "    <tr>\n",
       "      <th>4</th>\n",
       "      <td>0</td>\n",
       "      <td>1</td>\n",
       "      <td>0</td>\n",
       "      <td>0</td>\n",
       "      <td>1</td>\n",
       "      <td>2</td>\n",
       "      <td>3</td>\n",
       "      <td>0</td>\n",
       "      <td>1</td>\n",
       "      <td>0</td>\n",
       "      <td>...</td>\n",
       "      <td>1.0</td>\n",
       "      <td>1.0</td>\n",
       "      <td>0</td>\n",
       "      <td>1</td>\n",
       "      <td>0</td>\n",
       "      <td>0</td>\n",
       "      <td>1</td>\n",
       "      <td>2</td>\n",
       "      <td>3</td>\n",
       "      <td>0.5</td>\n",
       "    </tr>\n",
       "  </tbody>\n",
       "</table>\n",
       "<p>5 rows × 78 columns</p>\n",
       "</div>"
      ],
      "text/plain": [
       "   0   1   2   3   4   5   6   7   8   9   ...   68   69  70  71  72  73  74  \\\n",
       "0   0   2   0   0   1   1   1   0   1   0  ...  1.0  1.0   0   2   0   0   1   \n",
       "1   2   1   0   0   0   0   4   2   1   0  ...  0.0  1.0   2   1   0   0   0   \n",
       "2   1   0   0   0   0   4   1   1   0   0  ...  1.0  1.0   1   0   0   0   0   \n",
       "3   1   0   0   1   0   0   1   1   0   0  ...  0.0  1.0   1   0   0   1   0   \n",
       "4   0   1   0   0   1   2   3   0   1   0  ...  1.0  1.0   0   1   0   0   1   \n",
       "\n",
       "   75  76   77  \n",
       "0   1   1  0.0  \n",
       "1   0   4  0.5  \n",
       "2   4   1  0.0  \n",
       "3   0   1  2.5  \n",
       "4   2   3  0.5  \n",
       "\n",
       "[5 rows x 78 columns]"
      ]
     },
     "execution_count": 6,
     "metadata": {},
     "output_type": "execute_result"
    }
   ],
   "source": [
    "train_df.head()"
   ]
  },
  {
   "cell_type": "code",
   "execution_count": 7,
   "metadata": {},
   "outputs": [
    {
     "name": "stdout",
     "output_type": "stream",
     "text": [
      "0 0\n"
     ]
    }
   ],
   "source": [
    "print(train_df.isnull().sum().sum(), train_df.isna().sum().sum())"
   ]
  },
  {
   "cell_type": "code",
   "execution_count": 8,
   "metadata": {},
   "outputs": [
    {
     "name": "stdout",
     "output_type": "stream",
     "text": [
      "Int64Index([ 0,  1,  2,  3,  4,  5,  6,  7,  8,  9, 10, 11, 12, 13, 14, 15, 16,\n",
      "            17, 18, 19, 20, 21, 22, 23, 24, 25, 26, 27, 28, 29, 30, 31, 32, 33,\n",
      "            34, 35, 36, 37, 38, 39, 40, 41, 42, 43, 44, 45, 46, 47, 48, 49, 50,\n",
      "            51, 52, 53, 54, 55, 56, 57, 58, 59, 60, 61, 62, 63, 64, 65, 66, 67,\n",
      "            68, 69, 70, 71, 72, 73, 74, 75, 76, 77],\n",
      "           dtype='int64')\n"
     ]
    }
   ],
   "source": [
    "print(train_df.columns)"
   ]
  },
  {
   "cell_type": "code",
   "execution_count": 9,
   "metadata": {},
   "outputs": [
    {
     "data": {
      "text/plain": [
       "{dtype('int64'): 35, dtype('float64'): 43}"
      ]
     },
     "execution_count": 9,
     "metadata": {},
     "output_type": "execute_result"
    }
   ],
   "source": [
    "list_dtype = [train_df[i].dtype for i in train_df.columns]\n",
    "dict((i, list_dtype.count(i)) for i in list_dtype)"
   ]
  },
  {
   "cell_type": "markdown",
   "metadata": {},
   "source": [
    "All the columns are float type. Hence one hot encoding is not required."
   ]
  },
  {
   "cell_type": "code",
   "execution_count": 11,
   "metadata": {},
   "outputs": [
    {
     "name": "stdout",
     "output_type": "stream",
     "text": [
      "1       57452\n",
      "0       40909\n",
      "2       34530\n",
      "3       24658\n",
      "4       18832\n",
      "        ...  \n",
      "1934        1\n",
      "2458        1\n",
      "2253        1\n",
      "2725        1\n",
      "4779        1\n",
      "Name: 0, Length: 4410, dtype: int64\n"
     ]
    }
   ],
   "source": [
    "print(train_df[0].value_counts())"
   ]
  },
  {
   "cell_type": "markdown",
   "metadata": {},
   "source": [
    "This shows the class imbalance"
   ]
  },
  {
   "cell_type": "code",
   "execution_count": 13,
   "metadata": {},
   "outputs": [
    {
     "name": "stdout",
     "output_type": "stream",
     "text": [
      "42\n",
      "42   0    \n",
      "0.0  0        40360\n",
      "1.0  0          549\n",
      "     1        57452\n",
      "     2        34530\n",
      "     3        24658\n",
      "              ...  \n",
      "     20495        1\n",
      "     22175        1\n",
      "     22899        1\n",
      "     23604        1\n",
      "     24210        1\n",
      "Name: 0, Length: 4411, dtype: int64\n",
      "43\n",
      "43   0    \n",
      "0.0  0          217\n",
      "     1        25059\n",
      "     2         8518\n",
      "     3         3697\n",
      "     4         1721\n",
      "              ...  \n",
      "1.0  20495        1\n",
      "     22175        1\n",
      "     22899        1\n",
      "     23604        1\n",
      "     24210        1\n",
      "Name: 0, Length: 5344, dtype: int64\n",
      "44\n",
      "44   0    \n",
      "0.0  0        17279\n",
      "     1        19105\n",
      "     2         6629\n",
      "     3         2900\n",
      "     4         1479\n",
      "              ...  \n",
      "1.0  20495        1\n",
      "     22175        1\n",
      "     22899        1\n",
      "     23604        1\n",
      "     24210        1\n",
      "Name: 0, Length: 5099, dtype: int64\n",
      "45\n",
      "45   0    \n",
      "0.0  0        15134\n",
      "     1        16153\n",
      "     2         5676\n",
      "     3         2499\n",
      "     4         1255\n",
      "              ...  \n",
      "1.0  20495        1\n",
      "     22175        1\n",
      "     22899        1\n",
      "     23604        1\n",
      "     24210        1\n",
      "Name: 0, Length: 4948, dtype: int64\n",
      "46\n",
      "46   0    \n",
      "0.0  0        12971\n",
      "     1        14292\n",
      "     2         4781\n",
      "     3         1947\n",
      "     4          941\n",
      "              ...  \n",
      "1.0  20495        1\n",
      "     22175        1\n",
      "     22899        1\n",
      "     23604        1\n",
      "     24210        1\n",
      "Name: 0, Length: 4884, dtype: int64\n",
      "47\n",
      "47   0    \n",
      "0.0  0        8023\n",
      "     1        9730\n",
      "     2        2562\n",
      "     3         949\n",
      "     4         415\n",
      "              ... \n",
      "1.0  20495       1\n",
      "     22175       1\n",
      "     22899       1\n",
      "     23604       1\n",
      "     24210       1\n",
      "Name: 0, Length: 4673, dtype: int64\n",
      "48\n",
      "48   0    \n",
      "0.0  0        8326\n",
      "     1        9814\n",
      "     2        2576\n",
      "     3         910\n",
      "     4         410\n",
      "              ... \n",
      "1.0  20495       1\n",
      "     22175       1\n",
      "     22899       1\n",
      "     23604       1\n",
      "     24210       1\n",
      "Name: 0, Length: 4616, dtype: int64\n"
     ]
    }
   ],
   "source": [
    "for col in train_df.columns:\n",
    "    if len(train_df[col].unique()) < 5:\n",
    "        print(col)\n",
    "        print(train_df.groupby([col, 0])[0].count())\n",
    "        # break"
   ]
  },
  {
   "cell_type": "code",
   "execution_count": null,
   "metadata": {},
   "outputs": [],
   "source": []
  }
 ],
 "metadata": {
  "kernelspec": {
   "display_name": "Python 3.10.4 64-bit",
   "language": "python",
   "name": "python3"
  },
  "language_info": {
   "codemirror_mode": {
    "name": "ipython",
    "version": 3
   },
   "file_extension": ".py",
   "mimetype": "text/x-python",
   "name": "python",
   "nbconvert_exporter": "python",
   "pygments_lexer": "ipython3",
   "version": "3.10.4"
  },
  "orig_nbformat": 4,
  "vscode": {
   "interpreter": {
    "hash": "9edef32df64fbf2445d5eccdfaffa024e9b8b80668c48f61f6609efa82d8ab8a"
   }
  }
 },
 "nbformat": 4,
 "nbformat_minor": 2
}
